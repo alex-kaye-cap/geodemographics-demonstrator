{
 "cells": [
  {
   "cell_type": "code",
   "execution_count": 1,
   "metadata": {},
   "outputs": [],
   "source": [
    "import pandas as pd\n",
    "import geopandas as gpd"
   ]
  },
  {
   "cell_type": "code",
   "execution_count": 6,
   "metadata": {},
   "outputs": [],
   "source": [
    "high_pollen = gpd.read_file(\"C:/Users/alkaye/geodemographics-demonstrator/data/high_pollen.geojson\", columns=['h3_index', 'geometry'])\n",
    "low_pollen = gpd.read_file(\"C:/Users/alkaye/geodemographics-demonstrator/data/low_pollen.geojson\", columns=['h3_index', 'geometry'])\n",
    "\n",
    "high_pollen['pollen_level'] = 2\n",
    "low_pollen['pollen_level'] = 1\n",
    "\n",
    "pollen_gdf = pd.concat([high_pollen, low_pollen])\n",
    "pollen_gdf.to_file(\"C:/Users/alkaye/geodemographics-demonstrator/processed_data/pollen.geojson\")"
   ]
  },
  {
   "cell_type": "code",
   "execution_count": null,
   "metadata": {},
   "outputs": [],
   "source": []
  }
 ],
 "metadata": {
  "kernelspec": {
   "display_name": "geodemographics-demonstrator-Kx37PRoz",
   "language": "python",
   "name": "python3"
  },
  "language_info": {
   "codemirror_mode": {
    "name": "ipython",
    "version": 3
   },
   "file_extension": ".py",
   "mimetype": "text/x-python",
   "name": "python",
   "nbconvert_exporter": "python",
   "pygments_lexer": "ipython3",
   "version": "3.12.4"
  }
 },
 "nbformat": 4,
 "nbformat_minor": 2
}
